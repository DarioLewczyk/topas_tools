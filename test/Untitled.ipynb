{
 "cells": [
  {
   "cell_type": "code",
   "execution_count": 1,
   "id": "e2e344fc-3be1-4afe-ab26-8257a419e6fa",
   "metadata": {},
   "outputs": [],
   "source": [
    "from test import metadatadata\n",
    "from global_variable_test import Test "
   ]
  },
  {
   "cell_type": "code",
   "execution_count": 2,
   "id": "e524fba3-3952-498b-a36b-8cf2bdba2b5e",
   "metadata": {},
   "outputs": [],
   "source": [
    "test = Test()"
   ]
  },
  {
   "cell_type": "code",
   "execution_count": 3,
   "id": "873ce23b-084d-4e9a-bcf7-6be8f9b4610d",
   "metadata": {},
   "outputs": [],
   "source": [
    "test.add_data()"
   ]
  },
  {
   "cell_type": "code",
   "execution_count": 4,
   "id": "98760db3-b8d7-4980-8822-b180cd04d614",
   "metadata": {},
   "outputs": [
    {
     "data": {
      "text/plain": [
       "{'a': 0, 'b': 1, 'c': 2, 'd': 3, 'e': 4}"
      ]
     },
     "execution_count": 4,
     "metadata": {},
     "output_type": "execute_result"
    }
   ],
   "source": [
    "metadatadata"
   ]
  },
  {
   "cell_type": "code",
   "execution_count": 5,
   "id": "cb9d9a39-e047-4827-93a2-b7b4d2d233e4",
   "metadata": {},
   "outputs": [
    {
     "data": {
      "text/plain": [
       "{'a': 0, 'b': 1, 'c': 2, 'd': 3, 'e': 4}"
      ]
     },
     "execution_count": 5,
     "metadata": {},
     "output_type": "execute_result"
    }
   ],
   "source": [
    "test.metadatadata"
   ]
  },
  {
   "cell_type": "code",
   "execution_count": 6,
   "id": "fe98f281-cec0-4658-a760-236b2b357130",
   "metadata": {},
   "outputs": [],
   "source": [
    "metadatadata['j'] = 1"
   ]
  },
  {
   "cell_type": "code",
   "execution_count": 7,
   "id": "fd6609d7-fd69-4f85-8eec-970cfaf76048",
   "metadata": {},
   "outputs": [
    {
     "data": {
      "text/plain": [
       "{'a': 0, 'b': 1, 'c': 2, 'd': 3, 'e': 4, 'j': 1}"
      ]
     },
     "execution_count": 7,
     "metadata": {},
     "output_type": "execute_result"
    }
   ],
   "source": [
    "test.metadatadata"
   ]
  },
  {
   "cell_type": "code",
   "execution_count": 9,
   "id": "1cc2b532-e4d8-41b4-9cff-2735113f5b14",
   "metadata": {},
   "outputs": [],
   "source": [
    "class Testb:\n",
    "    def __init__(self,):\n",
    "        self.metadatadata = metadatadata\n",
    "        self.modify()\n",
    "    def modify(self):\n",
    "        self.metadatadata.update({'lmo': 45})"
   ]
  },
  {
   "cell_type": "code",
   "execution_count": 12,
   "id": "82768d9c-b7d8-414b-a5a8-1ade0ee0c961",
   "metadata": {},
   "outputs": [],
   "source": [
    "new = Testb()"
   ]
  },
  {
   "cell_type": "code",
   "execution_count": 13,
   "id": "425dde27-d192-4553-9375-04574f607619",
   "metadata": {},
   "outputs": [
    {
     "data": {
      "text/plain": [
       "{'a': 0, 'b': 1, 'c': 2, 'd': 3, 'e': 4, 'j': 1, 'lmo': 45}"
      ]
     },
     "execution_count": 13,
     "metadata": {},
     "output_type": "execute_result"
    }
   ],
   "source": [
    "metadatadata"
   ]
  },
  {
   "cell_type": "code",
   "execution_count": 15,
   "id": "4bfd5df8-0060-4f40-9121-cd01a11eeedd",
   "metadata": {},
   "outputs": [
    {
     "data": {
      "text/plain": [
       "{'a': 0, 'b': 1, 'c': 2, 'd': 3, 'e': 4, 'j': 1, 'lmo': 45}"
      ]
     },
     "execution_count": 15,
     "metadata": {},
     "output_type": "execute_result"
    }
   ],
   "source": [
    "new.metadatadata"
   ]
  },
  {
   "cell_type": "code",
   "execution_count": 16,
   "id": "ee0008e0-cab5-427c-9699-7ebe585012ac",
   "metadata": {},
   "outputs": [
    {
     "data": {
      "text/plain": [
       "{'a': 0, 'b': 1, 'c': 2, 'd': 3, 'e': 4, 'j': 1, 'lmo': 45}"
      ]
     },
     "execution_count": 16,
     "metadata": {},
     "output_type": "execute_result"
    }
   ],
   "source": [
    "test.metadatadata"
   ]
  },
  {
   "cell_type": "code",
   "execution_count": 17,
   "id": "72aac5e8-6b2c-499c-b104-2bf9957dcf6d",
   "metadata": {},
   "outputs": [
    {
     "name": "stdout",
     "output_type": "stream",
     "text": [
      "{'__name__': '__main__', '__doc__': 'Automatically created module for IPython interactive environment', '__package__': None, '__loader__': None, '__spec__': None, '__builtin__': <module 'builtins' (built-in)>, '__builtins__': <module 'builtins' (built-in)>, '_ih': ['', 'from test import metadatadata\\nfrom global_variable_test import Test ', 'test = Test()', 'test.add_data()', 'metadatadata', 'test.metadatadata', \"metadatadata['j'] = 1\", 'test.metadatadata', \"class Testb:\\n    def __init__(self,):\\n        self.metadatadata = metadatadata\\n    def modify(self):\\n        self.metadatadata.update({'lmo': 45})\", \"class Testb:\\n    def __init__(self,):\\n        self.metadatadata = metadatadata\\n        self.modify()\\n    def modify(self):\\n        self.metadatadata.update({'lmo': 45})\", 'Testb', 'Testb()', 'new = Testb()', 'metadatadata', 'Testb', 'new.metadatadata', 'test.metadatadata', 'print(globals())'], '_oh': {4: {'a': 0, 'b': 1, 'c': 2, 'd': 3, 'e': 4, 'j': 1, 'lmo': 45}, 5: {'a': 0, 'b': 1, 'c': 2, 'd': 3, 'e': 4, 'j': 1, 'lmo': 45}, 7: {'a': 0, 'b': 1, 'c': 2, 'd': 3, 'e': 4, 'j': 1, 'lmo': 45}, 10: <class '__main__.Testb'>, 11: <__main__.Testb object at 0x7fcba2205af0>, 13: {'a': 0, 'b': 1, 'c': 2, 'd': 3, 'e': 4, 'j': 1, 'lmo': 45}, 14: <class '__main__.Testb'>, 15: {'a': 0, 'b': 1, 'c': 2, 'd': 3, 'e': 4, 'j': 1, 'lmo': 45}, 16: {'a': 0, 'b': 1, 'c': 2, 'd': 3, 'e': 4, 'j': 1, 'lmo': 45}}, '_dh': ['/Users/dariolewczyk/Documents/Stony_Brook/Khalifah_Research_Group/Python_Tools/test'], 'In': ['', 'from test import metadatadata\\nfrom global_variable_test import Test ', 'test = Test()', 'test.add_data()', 'metadatadata', 'test.metadatadata', \"metadatadata['j'] = 1\", 'test.metadatadata', \"class Testb:\\n    def __init__(self,):\\n        self.metadatadata = metadatadata\\n    def modify(self):\\n        self.metadatadata.update({'lmo': 45})\", \"class Testb:\\n    def __init__(self,):\\n        self.metadatadata = metadatadata\\n        self.modify()\\n    def modify(self):\\n        self.metadatadata.update({'lmo': 45})\", 'Testb', 'Testb()', 'new = Testb()', 'metadatadata', 'Testb', 'new.metadatadata', 'test.metadatadata', 'print(globals())'], 'Out': {4: {'a': 0, 'b': 1, 'c': 2, 'd': 3, 'e': 4, 'j': 1, 'lmo': 45}, 5: {'a': 0, 'b': 1, 'c': 2, 'd': 3, 'e': 4, 'j': 1, 'lmo': 45}, 7: {'a': 0, 'b': 1, 'c': 2, 'd': 3, 'e': 4, 'j': 1, 'lmo': 45}, 10: <class '__main__.Testb'>, 11: <__main__.Testb object at 0x7fcba2205af0>, 13: {'a': 0, 'b': 1, 'c': 2, 'd': 3, 'e': 4, 'j': 1, 'lmo': 45}, 14: <class '__main__.Testb'>, 15: {'a': 0, 'b': 1, 'c': 2, 'd': 3, 'e': 4, 'j': 1, 'lmo': 45}, 16: {'a': 0, 'b': 1, 'c': 2, 'd': 3, 'e': 4, 'j': 1, 'lmo': 45}}, 'get_ipython': <bound method InteractiveShell.get_ipython of <ipykernel.zmqshell.ZMQInteractiveShell object at 0x7fcb9066bc70>>, 'exit': <IPython.core.autocall.ZMQExitAutocall object at 0x7fcb9067da00>, 'quit': <IPython.core.autocall.ZMQExitAutocall object at 0x7fcb9067da00>, '_': {'a': 0, 'b': 1, 'c': 2, 'd': 3, 'e': 4, 'j': 1, 'lmo': 45}, '__': {'a': 0, 'b': 1, 'c': 2, 'd': 3, 'e': 4, 'j': 1, 'lmo': 45}, '___': <class '__main__.Testb'>, '_i': 'test.metadatadata', '_ii': 'new.metadatadata', '_iii': 'Testb', '_i1': 'from test import metadatadata\\nfrom global_variable_test import Test ', 'metadatadata': {'a': 0, 'b': 1, 'c': 2, 'd': 3, 'e': 4, 'j': 1, 'lmo': 45}, 'Test': <class 'global_variable_test.Test'>, '_i2': 'test = Test()', 'test': <global_variable_test.Test object at 0x7fcba178c1f0>, '_i3': 'test.add_data()', '_i4': 'metadatadata', '_4': {'a': 0, 'b': 1, 'c': 2, 'd': 3, 'e': 4, 'j': 1, 'lmo': 45}, '_i5': 'test.metadatadata', '_5': {'a': 0, 'b': 1, 'c': 2, 'd': 3, 'e': 4, 'j': 1, 'lmo': 45}, '_i6': \"metadatadata['j'] = 1\", '_i7': 'test.metadatadata', '_7': {'a': 0, 'b': 1, 'c': 2, 'd': 3, 'e': 4, 'j': 1, 'lmo': 45}, '_i8': \"class Testb:\\n    def __init__(self,):\\n        self.metadatadata = metadatadata\\n    def modify(self):\\n        self.metadatadata.update({'lmo': 45})\", 'Testb': <class '__main__.Testb'>, '_i9': \"class Testb:\\n    def __init__(self,):\\n        self.metadatadata = metadatadata\\n        self.modify()\\n    def modify(self):\\n        self.metadatadata.update({'lmo': 45})\", '_i10': 'Testb', '_10': <class '__main__.Testb'>, '_i11': 'Testb()', '_11': <__main__.Testb object at 0x7fcba2205af0>, '_i12': 'new = Testb()', 'new': <__main__.Testb object at 0x7fcba2205e80>, '_i13': 'metadatadata', '_13': {'a': 0, 'b': 1, 'c': 2, 'd': 3, 'e': 4, 'j': 1, 'lmo': 45}, '_i14': 'Testb', '_14': <class '__main__.Testb'>, '_i15': 'new.metadatadata', '_15': {'a': 0, 'b': 1, 'c': 2, 'd': 3, 'e': 4, 'j': 1, 'lmo': 45}, '_i16': 'test.metadatadata', '_16': {'a': 0, 'b': 1, 'c': 2, 'd': 3, 'e': 4, 'j': 1, 'lmo': 45}, '_i17': 'print(globals())'}\n"
     ]
    }
   ],
   "source": [
    "print(globals())"
   ]
  },
  {
   "cell_type": "code",
   "execution_count": 1,
   "id": "571770a3-e2ba-4d15-a169-e3611b73e5e4",
   "metadata": {},
   "outputs": [],
   "source": [
    "import os"
   ]
  },
  {
   "cell_type": "code",
   "execution_count": 2,
   "id": "f4fde56f-445f-482d-aebb-15a86cb27b0b",
   "metadata": {},
   "outputs": [],
   "source": [
    "os.chdir('../')"
   ]
  },
  {
   "cell_type": "code",
   "execution_count": 3,
   "id": "0a360c8b-ec1b-41f3-a79a-c75150824695",
   "metadata": {},
   "outputs": [],
   "source": [
    "from topas_tools.utils.topas_utils import DataCollector\n",
    "from topas_tools.gvs import metadata_data,rietveld_data\n",
    "from topas_tools.gvs import _t_cal_model"
   ]
  },
  {
   "cell_type": "code",
   "execution_count": null,
   "id": "4ffe5843-da37-406a-ac81-e1ca86e97f35",
   "metadata": {},
   "outputs": [],
   "source": [
    "test3 = DataCollector()"
   ]
  },
  {
   "cell_type": "code",
   "execution_count": null,
   "id": "7a225451-87f6-4567-8fb3-88a4e11c45a6",
   "metadata": {},
   "outputs": [],
   "source": [
    "test3.metadata_data"
   ]
  },
  {
   "cell_type": "code",
   "execution_count": 17,
   "id": "02bb0542-4bdf-4b8b-a8c7-e1c170ad36a0",
   "metadata": {},
   "outputs": [],
   "source": [
    "metadata_data.update({'a':1})"
   ]
  },
  {
   "cell_type": "code",
   "execution_count": 18,
   "id": "3fdc5e5a-329c-4c6c-baa9-bd1c41e2f351",
   "metadata": {},
   "outputs": [
    {
     "data": {
      "text/plain": [
       "{'a': 1}"
      ]
     },
     "execution_count": 18,
     "metadata": {},
     "output_type": "execute_result"
    }
   ],
   "source": [
    "test3.metadata_data"
   ]
  },
  {
   "cell_type": "code",
   "execution_count": 5,
   "id": "723cb4c0-da30-4ad7-b9c0-2ad7b5c49780",
   "metadata": {},
   "outputs": [],
   "source": [
    "_hidden.update({'a':1})"
   ]
  },
  {
   "cell_type": "code",
   "execution_count": 6,
   "id": "488c216b-18b4-4ddd-b613-0d6e1469d981",
   "metadata": {},
   "outputs": [
    {
     "data": {
      "text/plain": [
       "{'a': 1}"
      ]
     },
     "execution_count": 6,
     "metadata": {},
     "output_type": "execute_result"
    }
   ],
   "source": [
    "_hidden"
   ]
  },
  {
   "cell_type": "code",
   "execution_count": 5,
   "id": "079bcc61-41ea-4a72-9103-122ef0261234",
   "metadata": {},
   "outputs": [
    {
     "data": {
      "text/plain": [
       "2.666666666666667"
      ]
     },
     "execution_count": 5,
     "metadata": {},
     "output_type": "execute_result"
    }
   ],
   "source": [
    "_t_cal_model(1,2,3,3)"
   ]
  },
  {
   "cell_type": "code",
   "execution_count": 4,
   "id": "9e13b56c-482c-41c7-9768-ddc96d45a351",
   "metadata": {},
   "outputs": [
    {
     "data": {
      "text/plain": [
       "{}"
      ]
     },
     "execution_count": 4,
     "metadata": {},
     "output_type": "execute_result"
    }
   ],
   "source": [
    "rietveld_data"
   ]
  },
  {
   "cell_type": "code",
   "execution_count": 5,
   "id": "5571a9f2-f311-4690-86af-f095f0a55f6e",
   "metadata": {},
   "outputs": [],
   "source": [
    "from topas_tools.utils.topas_utils import Utils"
   ]
  },
  {
   "cell_type": "code",
   "execution_count": 11,
   "id": "a0630f27-c5bc-43ff-a8a7-c23dbbf9f77b",
   "metadata": {},
   "outputs": [],
   "source": [
    "class new_class(Utils):\n",
    "    def __init__(self):\n",
    "        self.navigate_filesystem()"
   ]
  },
  {
   "cell_type": "code",
   "execution_count": 6,
   "id": "6e24bbcd-f200-4886-8943-da8abd3239d1",
   "metadata": {},
   "outputs": [
    {
     "ename": "TypeError",
     "evalue": "navigate_filesystem() missing 1 required positional argument: 'self'",
     "output_type": "error",
     "traceback": [
      "\u001b[0;31m---------------------------------------------------------------------------\u001b[0m",
      "\u001b[0;31mTypeError\u001b[0m                                 Traceback (most recent call last)",
      "\u001b[0;32m/var/folders/8w/tn6c0r516n5fww2x7k4ynn4c0000gn/T/ipykernel_67722/1860067783.py\u001b[0m in \u001b[0;36m<module>\u001b[0;34m\u001b[0m\n\u001b[0;32m----> 1\u001b[0;31m \u001b[0mUtils\u001b[0m\u001b[0;34m.\u001b[0m\u001b[0mnavigate_filesystem\u001b[0m\u001b[0;34m(\u001b[0m\u001b[0;34m)\u001b[0m\u001b[0;34m\u001b[0m\u001b[0;34m\u001b[0m\u001b[0m\n\u001b[0m",
      "\u001b[0;31mTypeError\u001b[0m: navigate_filesystem() missing 1 required positional argument: 'self'"
     ]
    }
   ],
   "source": [
    "Utils.navigate_filesystem()"
   ]
  },
  {
   "cell_type": "code",
   "execution_count": null,
   "id": "af6bcdd4-afe5-463e-9cbb-b416f111de86",
   "metadata": {},
   "outputs": [],
   "source": []
  }
 ],
 "metadata": {
  "kernelspec": {
   "display_name": "Python 3 (ipykernel)",
   "language": "python",
   "name": "python3"
  },
  "language_info": {
   "codemirror_mode": {
    "name": "ipython",
    "version": 3
   },
   "file_extension": ".py",
   "mimetype": "text/x-python",
   "name": "python",
   "nbconvert_exporter": "python",
   "pygments_lexer": "ipython3",
   "version": "3.9.7"
  }
 },
 "nbformat": 4,
 "nbformat_minor": 5
}
